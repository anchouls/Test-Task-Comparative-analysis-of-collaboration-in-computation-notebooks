{
 "cells": [
  {
   "cell_type": "code",
   "execution_count": 1,
   "metadata": {
    "collapsed": true
   },
   "outputs": [
    {
     "name": "stdout",
     "output_type": "stream",
     "text": [
      "Requirement already satisfied: PyGithub in c:\\users\\hyperpc\\appdata\\local\\programs\\python\\python39\\lib\\site-packages (1.57)\n",
      "Requirement already satisfied: pyjwt>=2.4.0 in c:\\users\\hyperpc\\appdata\\local\\programs\\python\\python39\\lib\\site-packages (from PyGithub) (2.6.0)\n",
      "Requirement already satisfied: deprecated in c:\\users\\hyperpc\\appdata\\local\\programs\\python\\python39\\lib\\site-packages (from PyGithub) (1.2.13)\n",
      "Requirement already satisfied: pynacl>=1.4.0 in c:\\users\\hyperpc\\appdata\\local\\programs\\python\\python39\\lib\\site-packages (from PyGithub) (1.5.0)\n",
      "Requirement already satisfied: requests>=2.14.0 in c:\\users\\hyperpc\\appdata\\local\\programs\\python\\python39\\lib\\site-packages (from PyGithub) (2.25.1)\n",
      "Requirement already satisfied: cffi>=1.4.1 in c:\\users\\hyperpc\\appdata\\local\\programs\\python\\python39\\lib\\site-packages (from pynacl>=1.4.0->PyGithub) (1.14.6)\n",
      "Requirement already satisfied: certifi>=2017.4.17 in c:\\users\\hyperpc\\appdata\\local\\programs\\python\\python39\\lib\\site-packages (from requests>=2.14.0->PyGithub) (2020.12.5)\n",
      "Requirement already satisfied: idna<3,>=2.5 in c:\\users\\hyperpc\\appdata\\local\\programs\\python\\python39\\lib\\site-packages (from requests>=2.14.0->PyGithub) (2.10)\n",
      "Requirement already satisfied: chardet<5,>=3.0.2 in c:\\users\\hyperpc\\appdata\\local\\programs\\python\\python39\\lib\\site-packages (from requests>=2.14.0->PyGithub) (4.0.0)\n",
      "Requirement already satisfied: urllib3<1.27,>=1.21.1 in c:\\users\\hyperpc\\appdata\\local\\programs\\python\\python39\\lib\\site-packages (from requests>=2.14.0->PyGithub) (1.26.3)\n",
      "Requirement already satisfied: wrapt<2,>=1.10 in c:\\users\\hyperpc\\appdata\\local\\programs\\python\\python39\\lib\\site-packages (from deprecated->PyGithub) (1.14.1)\n",
      "Requirement already satisfied: pycparser in c:\\users\\hyperpc\\appdata\\local\\programs\\python\\python39\\lib\\site-packages (from cffi>=1.4.1->pynacl>=1.4.0->PyGithub) (2.20)\n"
     ]
    }
   ],
   "source": [
    "import sys\n",
    "!{sys.executable} -m pip install PyGithub"
   ]
  },
  {
   "cell_type": "code",
   "execution_count": 2,
   "outputs": [],
   "source": [
    "from github import Github\n",
    "import matplotlib.pyplot as plt\n",
    "import getpass\n",
    "from math import log"
   ],
   "metadata": {
    "collapsed": false
   }
  },
  {
   "cell_type": "code",
   "execution_count": 4,
   "outputs": [
    {
     "name": "stdout",
     "output_type": "stream",
     "text": [
      "Create your personal token (without permissions)\n",
      "https://github.com/settings/tokens\n",
      "Remaining request limit: 5000\n"
     ]
    }
   ],
   "source": [
    "print('Create your personal token (without permissions)')\n",
    "print('https://github.com/settings/tokens')\n",
    "\n",
    "github = Github(getpass.getpass('Paste your token: '))\n",
    "\n",
    "print(f'Remaining request limit: {github.rate_limiting[0]}')"
   ],
   "metadata": {
    "collapsed": false
   }
  },
  {
   "cell_type": "code",
   "execution_count": 5,
   "outputs": [
    {
     "name": "stdout",
     "output_type": "stream",
     "text": [
      "List of used repositories:\n",
      "ML-For-Beginners\n",
      "TensorFlow-Examples\n",
      "PythonDataScienceHandbook\n",
      "stable-diffusion\n",
      "Made-With-ML\n",
      "Probabilistic-Programming-and-Bayesian-Methods-for-Hackers\n",
      "handson-ml\n",
      "handson-ml2\n",
      "fastai\n",
      "Complete-Python-3-Bootcamp\n",
      "homemade-machine-learning\n",
      "pytudes\n",
      "reinforcement-learning\n",
      "pydata-book\n",
      "shap\n",
      "pytorch-handbook\n",
      "learnopencv\n",
      "Data-Science-For-Beginners\n",
      "fastbook\n",
      "TensorFlow-Course\n",
      "deep-learning-with-python-notebooks\n",
      "data\n",
      "whisper\n",
      "annotated_deep_learning_paper_implementations\n",
      "awesome-python-applications\n",
      "the-craft-of-selfteaching\n",
      "Virgilio\n",
      "digital_video_introduction\n",
      "ML-NLP\n",
      "h4cker\n",
      "digital_video_introduction\n",
      "ML-NLP\n",
      "first-order-model\n",
      "Kalman-and-Bayesian-Filters-in-Python\n",
      "Deep-Learning-with-TensorFlow-book\n",
      "h4cker\n",
      "nlp-tutorial\n",
      "python-machine-learning-book\n",
      "deepmind-research\n",
      "PRML\n",
      "CLIP\n",
      "mml-book.github.io\n",
      "python3-cookbook\n",
      "pytorch-book\n",
      "community\n",
      "dopamine\n",
      "notebook\n",
      "mit-deep-learning\n",
      "code_snippets\n",
      "AutoEq\n",
      "cs231n.github.io\n",
      "TensorFlow-Tutorials\n",
      "prettymaps\n",
      "numerical-linear-algebra\n",
      "computervision-recipes\n",
      "PySyft\n",
      "The-Complete-FAANG-Preparation\n",
      "pandas_exercises\n",
      "nlp_course\n",
      "Interview\n",
      "Data-Science-Notes\n",
      "tsfresh\n",
      "data-engineering-zoomcamp\n",
      "aima-python\n",
      "python-machine-learning-book-2nd-edition\n",
      "industry-machine-learning\n",
      "LearnPython\n",
      "pycaret\n",
      "training-data-analyst\n",
      "introduction_to_ml_with_python\n",
      "TTS\n",
      "machine-learning-for-trading\n",
      "DensePose\n",
      "FinRL\n",
      "TensorFlow-2.x-Tutorials\n",
      "nerf\n",
      "vision_transformer\n",
      "pytorch-Deep-Learning\n",
      "disco-diffusion\n",
      "swift\n",
      "h2o-3\n",
      "TensorFlow-Tutorials\n",
      "pandas-cookbook\n",
      "Grokking-Deep-Learning\n",
      "py\n",
      "cleverhans\n",
      "tensorflow_tutorials\n",
      "dlaicourse\n",
      "docs\n",
      "Data-Analysis-and-Machine-Learning-Projects\n",
      "neuraltalk2\n",
      "courses\n",
      "cocoapi\n",
      "models\n",
      "pyprobml\n",
      "automl\n",
      "mlbookcamp-code\n",
      "Practical_RL\n",
      "Yet-Another-EfficientDet-Pytorch\n",
      "tpu\n"
     ]
    }
   ],
   "source": [
    "stars = []\n",
    "contributors = []\n",
    "names = []\n",
    "for rep in github.search_repositories('language:jupyter-notebook')[:100]:\n",
    "  names.append(rep.name)\n",
    "  stars.append(rep.stargazers_count)\n",
    "  contributors.append(rep.get_contributors().totalCount)\n",
    "\n",
    "print('List of used repositories:')\n",
    "print(*names, sep='\\n')"
   ],
   "metadata": {
    "collapsed": false
   }
  },
  {
   "cell_type": "code",
   "execution_count": 6,
   "outputs": [
    {
     "data": {
      "text/plain": "<Figure size 1008x1008 with 1 Axes>",
      "image/png": "[encoded data removed]"
     },
     "metadata": {
      "needs_background": "light"
     },
     "output_type": "display_data"
    }
   ],
   "source": [
    "plt.figure(figsize = (14, 14))\n",
    "plt.scatter(list(map(log, stars)), contributors)\n",
    "plt.xlabel(\"Stars (log scale)\")\n",
    "plt.ylabel(\"Contributors\")\n",
    "plt.title('100 jupyter-notebook projects')\n",
    "plt.show()"
   ],
   "metadata": {
    "collapsed": false
   }
  },
  {
   "cell_type": "code",
   "execution_count": null,
   "outputs": [],
   "source": [],
   "metadata": {
    "collapsed": false
   }
  }
 ],
 "metadata": {
  "kernelspec": {
   "display_name": "Python 3",
   "language": "python",
   "name": "python3"
  },
  "language_info": {
   "codemirror_mode": {
    "name": "ipython",
    "version": 2
   },
   "file_extension": ".py",
   "mimetype": "text/x-python",
   "name": "python",
   "nbconvert_exporter": "python",
   "pygments_lexer": "ipython2",
   "version": "2.7.6"
  }
 },
 "nbformat": 4,
 "nbformat_minor": 0
}
